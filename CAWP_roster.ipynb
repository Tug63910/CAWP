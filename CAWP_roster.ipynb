{
 "cells": [
  {
   "cell_type": "code",
   "execution_count": 1,
   "metadata": {},
   "outputs": [],
   "source": [
    "#Get text file and save to BeautifulSoup Object\n",
    "import requests\n",
    "\n",
    "fin=open('nj_roster.txt','rt')\n",
    "text=fin.read()\n",
    "fin.close()\n",
    "\n",
    "from bs4 import BeautifulSoup\n",
    "soup=BeautifulSoup(text,\"html5lib\")\n",
    "\n"
   ]
  },
  {
   "cell_type": "code",
   "execution_count": 2,
   "metadata": {},
   "outputs": [],
   "source": [
    "#Get list of dictionaries for each candidate\n",
    "import re\n",
    "\n",
    "def tag_BIO(child):\n",
    "    return child.has_attr('href') and re.search('BIO\\.asp\\?Leg=\\d+',child['href'])\n",
    "\n",
    "root='https://www.njleg.state.nj.us/members/'"
   ]
  },
  {
   "cell_type": "code",
   "execution_count": 3,
   "metadata": {
    "scrolled": false
   },
   "outputs": [],
   "source": [
    "#Generate profile of members from roster\n",
    "profile={}\n",
    "members=[]\n",
    "for tag in soup.find_all(tag_BIO):\n",
    "    name=[string for string in tag.stripped_strings][0]\n",
    "    url=root+tag['href']\n",
    "    party=re.sub('\\s+$','',re.sub('^\\s*','',tag.parent.next_sibling))\n",
    "    title=[string for string in tag.parent.find_previous_sibling(True).stripped_strings][0]\n",
    "    members.append({'name':name,'title':title,'party':party,'url':url})"
   ]
  },
  {
   "cell_type": "code",
   "execution_count": 4,
   "metadata": {},
   "outputs": [],
   "source": [
    "#From Bio page, personal information\n",
    "def tag_BORN(tag):\n",
    "    m=[re.search(r\"OCCUPATION:\",string) for string in tag.stripped_strings]\n",
    "    return m and not None in m\n",
    "\n",
    "for member in members:\n",
    "    url=member['url']\n",
    "    html=re.sub('<br/>|<br>\\n*','',requests.get(url).text)\n",
    "    soup=BeautifulSoup(html,\"html5lib\")\n",
    "    profile_def={\"birthday\":\"BORN:\",\"occupation\":\"OCCUPATION:\",\"political experience\":\"PUBLIC/PARTY SERVICE\"}\n",
    "    \n",
    "    for key in profile_def:\n",
    "        def tag_verify(tag):\n",
    "            m=[re.search(profile_def[key],string) for string in tag.stripped_strings]\n",
    "            return m and not None in m\n",
    "        tag=soup.find(tag_verify,string=True)\n",
    "        if tag==None:\n",
    "            member[key]='N/A'\n",
    "        else:\n",
    "            tag_bday=tag.find_next_sibling('td')\n",
    "            member[key]=[string for string in tag_bday.stripped_strings][0]"
   ]
  },
  {
   "cell_type": "code",
   "execution_count": 5,
   "metadata": {},
   "outputs": [],
   "source": [
    "#Create Dataform in Panda using members list.\n",
    "df=''\n",
    "import pandas as pd\n",
    "df=pd.DataFrame(members)\n",
    "column_titles=['name','title','party','birthday','occupation','political experience','url']\n",
    "df=df[column_titles]\n",
    "df.to_excel('pd_to_excel.xlsx',index=False)"
   ]
  },
  {
   "cell_type": "code",
   "execution_count": 25,
   "metadata": {},
   "outputs": [],
   "source": [
    "#Adjust formatting of Excel file\n",
    "import openpyxl\n",
    "from openpyxl.styles import Alignment\n",
    "wb=openpyxl.load_workbook('pd_to_excel.xlsx')\n",
    "sheet=wb.active\n",
    "sheet.title='NJ Legislature'\n",
    "\n",
    "#Set column widths\n",
    "column_width={'A':25,'B':17,'C':11,'D':18,'E':30,'F':30,'G':53}\n",
    "for column in column_width:\n",
    "    sheet.column_dimensions[column].width=column_width[column]\n",
    "\n",
    "#Top justify and wrap text for all cells\n",
    "for column in [column_obj for column_obj in sheet.columns]:\n",
    "    for cell in column:\n",
    "        cell.alignment=Alignment(vertical='top', wrap_text=True)\n",
    "    \n",
    "#Freeze column headers\n",
    "sheet.freeze_panes='A2'\n",
    "\n",
    "#Save workbook\n",
    "wb.save('pd_to_excel.xlsx')"
   ]
  },
  {
   "cell_type": "code",
   "execution_count": null,
   "metadata": {},
   "outputs": [],
   "source": []
  },
  {
   "cell_type": "code",
   "execution_count": null,
   "metadata": {},
   "outputs": [],
   "source": []
  }
 ],
 "metadata": {
  "kernelspec": {
   "display_name": "Python 3",
   "language": "python",
   "name": "python3"
  },
  "language_info": {
   "codemirror_mode": {
    "name": "ipython",
    "version": 3
   },
   "file_extension": ".py",
   "mimetype": "text/x-python",
   "name": "python",
   "nbconvert_exporter": "python",
   "pygments_lexer": "ipython3",
   "version": "3.7.3"
  }
 },
 "nbformat": 4,
 "nbformat_minor": 2
}
